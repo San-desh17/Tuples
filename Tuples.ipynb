{
  "nbformat": 4,
  "nbformat_minor": 0,
  "metadata": {
    "colab": {
      "provenance": [],
      "gpuType": "T4",
      "authorship_tag": "ABX9TyNRWrl7oX4lCDgzVeOkVKfO",
      "include_colab_link": true
    },
    "kernelspec": {
      "name": "python3",
      "display_name": "Python 3"
    },
    "language_info": {
      "name": "python"
    },
    "accelerator": "GPU"
  },
  "cells": [
    {
      "cell_type": "markdown",
      "metadata": {
        "id": "view-in-github",
        "colab_type": "text"
      },
      "source": [
        "<a href=\"https://colab.research.google.com/github/San-desh17/Tuples/blob/main/Tuples.ipynb\" target=\"_parent\"><img src=\"https://colab.research.google.com/assets/colab-badge.svg\" alt=\"Open In Colab\"/></a>"
      ]
    },
    {
      "cell_type": "markdown",
      "source": [
        "### Tuples\n",
        "* immutable\n",
        "* ordered\n",
        "* allows duplicate\n",
        "\n",
        "* Creation of Python tuple without the use of parentheses is known as Tuple Packing.  "
      ],
      "metadata": {
        "id": "qhSAeOBZGzjN"
      }
    },
    {
      "cell_type": "markdown",
      "source": [
        "### Creating a Tuple\n",
        "Time complexity: O(1)\n",
        "\n",
        "Auxiliary Space : O(n)"
      ],
      "metadata": {
        "id": "Oqs0hg7GHFcN"
      }
    },
    {
      "cell_type": "code",
      "source": [
        "# empty\n",
        "t = ()\n",
        "type(t)"
      ],
      "metadata": {
        "colab": {
          "base_uri": "https://localhost:8080/"
        },
        "id": "NNqWn0MaHAr7",
        "outputId": "f5f3b841-3be7-43ff-e0a5-0b06e6e61a67"
      },
      "execution_count": null,
      "outputs": [
        {
          "output_type": "execute_result",
          "data": {
            "text/plain": [
              "tuple"
            ]
          },
          "metadata": {},
          "execution_count": 5
        }
      ]
    },
    {
      "cell_type": "code",
      "source": [
        "# with single item\n",
        "t1 = (1,)\n",
        "t1"
      ],
      "metadata": {
        "colab": {
          "base_uri": "https://localhost:8080/"
        },
        "id": "B63IdL9iHOZe",
        "outputId": "bd1497be-32a7-44cd-ffa7-3e2f52c71197"
      },
      "execution_count": null,
      "outputs": [
        {
          "output_type": "execute_result",
          "data": {
            "text/plain": [
              "(1,)"
            ]
          },
          "metadata": {},
          "execution_count": 7
        }
      ]
    },
    {
      "cell_type": "code",
      "source": [
        "# homo\n",
        "t2 = (1,2,3)\n",
        "t2"
      ],
      "metadata": {
        "colab": {
          "base_uri": "https://localhost:8080/"
        },
        "id": "_M_yN3oOHQKc",
        "outputId": "94c3375b-7e59-48bc-e484-80aa7eb8f9b1"
      },
      "execution_count": null,
      "outputs": [
        {
          "output_type": "execute_result",
          "data": {
            "text/plain": [
              "(1, 2, 3)"
            ]
          },
          "metadata": {},
          "execution_count": 10
        }
      ]
    },
    {
      "cell_type": "code",
      "source": [
        "# hetero\n",
        "t3 = (1,2.3,'Snas')\n",
        "t3"
      ],
      "metadata": {
        "colab": {
          "base_uri": "https://localhost:8080/"
        },
        "id": "giNwaM5tHRic",
        "outputId": "379fcf95-7847-4adc-c164-310a46eeffe3"
      },
      "execution_count": null,
      "outputs": [
        {
          "output_type": "execute_result",
          "data": {
            "text/plain": [
              "(1, 2.3, 'Snas')"
            ]
          },
          "metadata": {},
          "execution_count": 11
        }
      ]
    },
    {
      "cell_type": "code",
      "source": [
        "t6 = (1,2,3,(2,3,4))\n",
        "type(t6)"
      ],
      "metadata": {
        "colab": {
          "base_uri": "https://localhost:8080/"
        },
        "id": "VU0rFgdKJD7e",
        "outputId": "dbe6af6e-915e-4d10-f7d4-375d8c4ed8b2"
      },
      "execution_count": null,
      "outputs": [
        {
          "output_type": "execute_result",
          "data": {
            "text/plain": [
              "tuple"
            ]
          },
          "metadata": {},
          "execution_count": 15
        }
      ]
    },
    {
      "cell_type": "code",
      "source": [
        "t7 = (1,2,3,[4,5])\n",
        "type(t7)"
      ],
      "metadata": {
        "colab": {
          "base_uri": "https://localhost:8080/"
        },
        "id": "iF80YWikJKa9",
        "outputId": "1d0de4ae-b014-4fe8-ec36-ccc770407c5d"
      },
      "execution_count": null,
      "outputs": [
        {
          "output_type": "execute_result",
          "data": {
            "text/plain": [
              "tuple"
            ]
          },
          "metadata": {},
          "execution_count": 16
        }
      ]
    },
    {
      "cell_type": "code",
      "source": [
        "# using type conversion\n",
        "t4 = tuple('hello')\n",
        "t4"
      ],
      "metadata": {
        "colab": {
          "base_uri": "https://localhost:8080/"
        },
        "id": "Nloq9TKhHSJU",
        "outputId": "9065126a-5f57-4e35-a90c-600d7dc1893f"
      },
      "execution_count": null,
      "outputs": [
        {
          "output_type": "execute_result",
          "data": {
            "text/plain": [
              "('h', 'e', 'l', 'l', 'o')"
            ]
          },
          "metadata": {},
          "execution_count": 12
        }
      ]
    },
    {
      "cell_type": "markdown",
      "source": [
        "### Accessing Items\n",
        "* indexing\n",
        "* slicing\n",
        "\n",
        "Time complexity: O(1)\n",
        "\n",
        "Space complexity: O(1)"
      ],
      "metadata": {
        "id": "Mj1ZYudmI2ls"
      }
    },
    {
      "cell_type": "markdown",
      "source": [
        "### Editing items"
      ],
      "metadata": {
        "id": "dhyD2GLoJXq2"
      }
    },
    {
      "cell_type": "code",
      "source": [
        "# not editing"
      ],
      "metadata": {
        "id": "LGdg-OFCIjQ2"
      },
      "execution_count": null,
      "outputs": []
    },
    {
      "cell_type": "markdown",
      "source": [
        "### Deleting items"
      ],
      "metadata": {
        "id": "Ch4p-ERuKac9"
      }
    },
    {
      "cell_type": "code",
      "source": [
        "# not deleting items"
      ],
      "metadata": {
        "id": "24n68OJ1Kd0M"
      },
      "execution_count": null,
      "outputs": []
    },
    {
      "cell_type": "code",
      "source": [
        "# deleting whole tuple\n",
        "del t4\n",
        "t4"
      ],
      "metadata": {
        "colab": {
          "base_uri": "https://localhost:8080/",
          "height": 211
        },
        "id": "NFPhFJ8SKfgN",
        "outputId": "d258fa35-6fcf-4bee-e20f-56d53382690c"
      },
      "execution_count": null,
      "outputs": [
        {
          "output_type": "error",
          "ename": "NameError",
          "evalue": "name 't4' is not defined",
          "traceback": [
            "\u001b[0;31m---------------------------------------------------------------------------\u001b[0m",
            "\u001b[0;31mNameError\u001b[0m                                 Traceback (most recent call last)",
            "\u001b[0;32m<ipython-input-20-c8d9bfc19643>\u001b[0m in \u001b[0;36m<cell line: 2>\u001b[0;34m()\u001b[0m\n\u001b[1;32m      1\u001b[0m \u001b[0;31m# deleting whole tuple\u001b[0m\u001b[0;34m\u001b[0m\u001b[0;34m\u001b[0m\u001b[0m\n\u001b[0;32m----> 2\u001b[0;31m \u001b[0;32mdel\u001b[0m \u001b[0mt4\u001b[0m\u001b[0;34m\u001b[0m\u001b[0;34m\u001b[0m\u001b[0m\n\u001b[0m\u001b[1;32m      3\u001b[0m \u001b[0mt4\u001b[0m\u001b[0;34m\u001b[0m\u001b[0;34m\u001b[0m\u001b[0m\n",
            "\u001b[0;31mNameError\u001b[0m: name 't4' is not defined"
          ]
        }
      ]
    },
    {
      "cell_type": "markdown",
      "source": [
        "### Operations on tuples"
      ],
      "metadata": {
        "id": "DSbGPcTSK--D"
      }
    },
    {
      "cell_type": "code",
      "source": [
        "# + and *\n",
        "t1 = (1,2,3)\n",
        "t2 = (4,5,6)\n",
        "print(t1 + t2)"
      ],
      "metadata": {
        "colab": {
          "base_uri": "https://localhost:8080/"
        },
        "id": "3jp0QjwTKkvV",
        "outputId": "f545dca6-ac3d-43b8-8c2e-1ab3a79cdab3"
      },
      "execution_count": null,
      "outputs": [
        {
          "output_type": "stream",
          "name": "stdout",
          "text": [
            "(1, 2, 3, 4, 5, 6)\n"
          ]
        }
      ]
    },
    {
      "cell_type": "code",
      "source": [
        "t1 * 2"
      ],
      "metadata": {
        "colab": {
          "base_uri": "https://localhost:8080/"
        },
        "id": "pMLJ4eEgKpgX",
        "outputId": "18521658-38c7-495e-968e-0d08bd88db28"
      },
      "execution_count": null,
      "outputs": [
        {
          "output_type": "execute_result",
          "data": {
            "text/plain": [
              "(1, 2, 3, 1, 2, 3)"
            ]
          },
          "metadata": {},
          "execution_count": 25
        }
      ]
    },
    {
      "cell_type": "code",
      "source": [
        "# membership"
      ],
      "metadata": {
        "id": "1VGyVwfnMpgX"
      },
      "execution_count": null,
      "outputs": []
    },
    {
      "cell_type": "code",
      "source": [
        "# iteration\n",
        "for i in t1:\n",
        "  print(i)"
      ],
      "metadata": {
        "colab": {
          "base_uri": "https://localhost:8080/"
        },
        "id": "Vmc-hGoFMs73",
        "outputId": "0e03370f-f18a-488f-86e3-351de8f161f6"
      },
      "execution_count": null,
      "outputs": [
        {
          "output_type": "stream",
          "name": "stdout",
          "text": [
            "1\n",
            "2\n",
            "3\n"
          ]
        }
      ]
    },
    {
      "cell_type": "markdown",
      "source": [
        "### Tuple functions"
      ],
      "metadata": {
        "id": "QN733i_nM1f1"
      }
    },
    {
      "cell_type": "code",
      "source": [
        "# len()"
      ],
      "metadata": {
        "id": "XlmNSFqGMwi2"
      },
      "execution_count": null,
      "outputs": []
    },
    {
      "cell_type": "code",
      "source": [
        "# sum()\n"
      ],
      "metadata": {
        "id": "Ducr-952M4m-"
      },
      "execution_count": null,
      "outputs": []
    },
    {
      "cell_type": "code",
      "source": [
        "# min()\n"
      ],
      "metadata": {
        "id": "L6FciVIXM7As"
      },
      "execution_count": null,
      "outputs": []
    },
    {
      "cell_type": "code",
      "source": [
        "# max()"
      ],
      "metadata": {
        "id": "rfG1tQFmM8iv"
      },
      "execution_count": null,
      "outputs": []
    },
    {
      "cell_type": "code",
      "source": [
        "# sorted()"
      ],
      "metadata": {
        "id": "S8RuwJX3M9oO"
      },
      "execution_count": null,
      "outputs": []
    },
    {
      "cell_type": "code",
      "source": [
        "# count"
      ],
      "metadata": {
        "id": "MT0gWERTM-3V"
      },
      "execution_count": null,
      "outputs": []
    },
    {
      "cell_type": "code",
      "source": [
        "# index"
      ],
      "metadata": {
        "id": "RE5fkcFfNC1_"
      },
      "execution_count": null,
      "outputs": []
    },
    {
      "cell_type": "markdown",
      "source": [
        "### Difference between lists and tuples\n",
        "* syntax\n",
        "* mutability\n",
        "* speed\n",
        "* memory\n",
        "* built in functionality\n",
        "* error prone\n",
        "* usability"
      ],
      "metadata": {
        "id": "54s-vwALNHad"
      }
    },
    {
      "cell_type": "code",
      "source": [
        "# tuple unpacking\n",
        "a,b,c = (1,2,3)\n",
        "print(a,b,c)"
      ],
      "metadata": {
        "colab": {
          "base_uri": "https://localhost:8080/"
        },
        "id": "aoAhAzpSND2O",
        "outputId": "269ecdb7-c21e-4c61-ee61-ae8599817499"
      },
      "execution_count": null,
      "outputs": [
        {
          "output_type": "stream",
          "name": "stdout",
          "text": [
            "1 2 3\n"
          ]
        }
      ]
    },
    {
      "cell_type": "code",
      "source": [
        "a,b, *others = (1,2,3,4,5)\n",
        "print(a,b,others)"
      ],
      "metadata": {
        "colab": {
          "base_uri": "https://localhost:8080/"
        },
        "id": "tGL0NWSzNrrm",
        "outputId": "55035d91-525e-4579-d685-1b9d42e0c6ff"
      },
      "execution_count": null,
      "outputs": [
        {
          "output_type": "stream",
          "name": "stdout",
          "text": [
            "1 2 [3, 4, 5]\n"
          ]
        }
      ]
    },
    {
      "cell_type": "code",
      "source": [
        "# ziping tuple"
      ],
      "metadata": {
        "id": "Vx-SvjKFN2Am"
      },
      "execution_count": null,
      "outputs": []
    },
    {
      "cell_type": "code",
      "source": [],
      "metadata": {
        "id": "BJ375s_AN7y_"
      },
      "execution_count": null,
      "outputs": []
    }
  ]
}